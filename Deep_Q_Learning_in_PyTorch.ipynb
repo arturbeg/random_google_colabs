{
  "nbformat": 4,
  "nbformat_minor": 0,
  "metadata": {
    "colab": {
      "name": "Deep Q Learning in PyTorch.ipynb",
      "provenance": [],
      "collapsed_sections": [],
      "include_colab_link": true
    },
    "kernelspec": {
      "name": "python3",
      "display_name": "Python 3"
    }
  },
  "cells": [
    {
      "cell_type": "markdown",
      "metadata": {
        "id": "view-in-github",
        "colab_type": "text"
      },
      "source": [
        "<a href=\"https://colab.research.google.com/github/arturbeg/random_google_colabs/blob/master/Deep_Q_Learning_in_PyTorch.ipynb\" target=\"_parent\"><img src=\"https://colab.research.google.com/assets/colab-badge.svg\" alt=\"Open In Colab\"/></a>"
      ]
    },
    {
      "cell_type": "code",
      "metadata": {
        "id": "73hX2NxbOHdj",
        "colab_type": "code",
        "colab": {}
      },
      "source": [
        "import torch as T\n",
        "import torch.nn as nn\n",
        "import torch.nn.functional as F\n",
        "import torch.optim as optim\n",
        "import numpy as np"
      ],
      "execution_count": 0,
      "outputs": []
    },
    {
      "cell_type": "code",
      "metadata": {
        "id": "7FfPlhvvOUip",
        "colab_type": "code",
        "colab": {}
      },
      "source": [
        "class DeepQNetwork(nn.Module):\n",
        "  def __init__(self, lr, input_dims, fc1_dims, fc2_dims, n_actions):\n",
        "    super(DeepQNetwork, self).__init__()\n",
        "    self.input_dims = input_dims\n",
        "    self.fc1_dims = fc1_dims\n",
        "    self.fc2_dims = fc2_dims\n",
        "    self.n_actions = n_actions\n",
        "    self.fc1 = nn.Linear(*self.input_dims, self.fc1_dims)\n",
        "    self.fc2 = nn.Linear(self.fc1_dims, self.fc2_dims)\n",
        "    self.fc3 = nn.Linear(self.fc2_dims, self.n_actions)\n",
        "    self.optimizer = optim.Adam(self.parameters(), lr=lr)\n",
        "    self.loss = nn.MSELoss()\n",
        "    self.device = T.device('cuda:0' if T.cuda.is_available() else 'cuda:1')\n",
        "    self.to(self.device)\n",
        "\n",
        "  def forward(self, observation):\n",
        "    # for the lunar lander environment don't have to do any flattenning operations\n",
        "    state = T.Tensor(observation).to(self.device)\n",
        "    x = F.relu(self.fc1(state))\n",
        "    x = F.relu(self.fc2(state))\n",
        "    # don't want to activate it here, want to know if the actions are\n",
        "    # negative\n",
        "    actions = self.fc3(x)\n",
        "    return actions\n",
        "\n",
        "class Agent(object):\n",
        "  def __init__(self, gamma, epsilon, lr, input_dims, batch_size, n_actions, max_mem_size=1000000, eps_end=0.01, eps_dec=0.996):\n",
        "    '''\n",
        "      the purpose of the memory is because the Q function is complex,\n",
        "      so if you sample from local episodes, can end up in a local minimum\n",
        "      sampling is a better procedure\n",
        "    '''\n",
        "    self.gamma = gamma\n",
        "    self.epsilon = epsilon\n",
        "    self.eps_min = eps_min\n",
        "    self.eps_dec = eps_dec\n",
        "    self.batch_size = batch_size\n",
        "    self.n_actions = n_actions\n",
        "    self.actions_space = [i for i in range(n_actions)]\n",
        "    self.mem_size = max_mem_size\n",
        "    # an agent has a DeepQNetwork\n",
        "    self.Q_eval = DeepQNetwork(lr=lr, n_actions=self.n_actions, input_dims=input_dims,\n",
        "                               fc1_dims=256, fc2_dims=256)\n",
        "    # number of parameters to keep track of the memory\n",
        "    self.state_memory = np.zeros(self.mem_size, *input_dims)\n",
        "\n",
        "    self.new_state_memory = np.zeros((self.mem_size, *input_dims))\n",
        "    self.action_memory = np.zeros((self.mem_size, self.n_actions), \n",
        "                                  dtype=np.uint8)\n",
        "    # sequence of done flags\n",
        "    self.reward_memory = np.zerpos(self.mem_size)\n",
        "    self.terminal_memory = np.zeros(self.mem_size, dtype=np.uint8)\n",
        "\n",
        "  # stopped here\n",
        "  # def store_transition(self, state, a)\n",
        "    \n",
        "    \n",
        "\n",
        "\n",
        "\n"
      ],
      "execution_count": 0,
      "outputs": []
    }
  ]
}